{
  "cells": [
    {
      "cell_type": "code",
      "execution_count": null,
      "metadata": {
        "id": "LGWES3E_ojPs"
      },
      "outputs": [],
      "source": [
        "#Q.1 Write a code to read the contents of a file in python."
      ]
    },
    {
      "cell_type": "code",
      "execution_count": null,
      "metadata": {
        "id": "6bZAPTlxqJBg"
      },
      "outputs": [],
      "source": [
        "with open('filename.txt', 'r') as file:\n",
        "    contents = file.read()\n",
        "\n",
        "print(contents)"
      ]
    },
    {
      "cell_type": "code",
      "execution_count": null,
      "metadata": {
        "id": "iENkKmzuqTBV"
      },
      "outputs": [],
      "source": [
        "#Q.2 Write a code to write to a file in python."
      ]
    },
    {
      "cell_type": "code",
      "execution_count": null,
      "metadata": {
        "id": "x1lfylrJrr_t"
      },
      "outputs": [],
      "source": [
        "with open('filename.txt', 'w') as file:\n",
        "    file.write(\"This is a sample text written to the file.\")\n"
      ]
    },
    {
      "cell_type": "code",
      "execution_count": null,
      "metadata": {
        "id": "zTtB3l6krznU"
      },
      "outputs": [],
      "source": [
        "with open('filename.txt', 'a') as file:\n",
        "    file.write(\"\\nThis text is appended to the file.\")"
      ]
    },
    {
      "cell_type": "code",
      "execution_count": null,
      "metadata": {
        "id": "ggcHhP-6r2rc"
      },
      "outputs": [],
      "source": [
        "#Q.3 Write a code to append to a file in python."
      ]
    },
    {
      "cell_type": "code",
      "execution_count": null,
      "metadata": {
        "id": "hYaSN2ZbsuJi"
      },
      "outputs": [],
      "source": [
        "with open('filename.txt', 'a') as file:\n",
        "    file.write(\"\\nThis is the appended text.\")"
      ]
    },
    {
      "cell_type": "code",
      "execution_count": null,
      "metadata": {
        "id": "Xmo4IBElteno"
      },
      "outputs": [],
      "source": [
        "#Q.4 Write a code to read a binary file in python"
      ]
    },
    {
      "cell_type": "code",
      "execution_count": null,
      "metadata": {
        "id": "2bBfR0T7uHHf"
      },
      "outputs": [],
      "source": [
        "with open('filename.bin', 'rb') as file:\n",
        "    binary_data = file.read()\n",
        "\n",
        "print(binary_data)"
      ]
    },
    {
      "cell_type": "code",
      "execution_count": null,
      "metadata": {
        "id": "ZIEwUv39uPQF"
      },
      "outputs": [],
      "source": [
        "#Q.5 What happens if we don't use'with'keyword with'open'in python?"
      ]
    },
    {
      "cell_type": "code",
      "execution_count": null,
      "metadata": {
        "colab": {
          "base_uri": "https://localhost:8080/"
        },
        "id": "IDli5FO3zd0q",
        "outputId": "0d433097-ff5e-4c64-f941-35294e5f4130"
      },
      "outputs": [
        {
          "name": "stdout",
          "output_type": "stream",
          "text": [
            "This is a sample text written to the file.\n",
            "This is the appended text.\n"
          ]
        }
      ],
      "source": [
        "file = open('filename.txt', 'r')\n",
        "contents = file.read()\n",
        "file.close()\n",
        "\n",
        "print(contents)\n"
      ]
    },
    {
      "cell_type": "code",
      "execution_count": null,
      "metadata": {
        "colab": {
          "base_uri": "https://localhost:8080/"
        },
        "id": "tPzoXq5kznMZ",
        "outputId": "bcecd29b-b157-442f-f9f9-656b691d8a1c"
      },
      "outputs": [
        {
          "name": "stdout",
          "output_type": "stream",
          "text": [
            "This is a sample text written to the file.\n",
            "This is the appended text.\n"
          ]
        }
      ],
      "source": [
        "with open('filename.txt', 'r') as file:\n",
        "    contents = file.read()\n",
        "\n",
        "print(contents)"
      ]
    },
    {
      "cell_type": "code",
      "execution_count": null,
      "metadata": {
        "id": "Ppy6X7S0zu1h"
      },
      "outputs": [],
      "source": [
        "#Q.6 Explain the concept of buffering in file handling and how it helps in improving read and write operations."
      ]
    },
    {
      "cell_type": "code",
      "execution_count": null,
      "metadata": {
        "id": "5M5AKY0F0Q3B"
      },
      "outputs": [],
      "source": [
        "\n",
        "# Concept of Buffering in File Handling:\n",
        "# Buffering in file handling refers to the process of temporarily storing data in memory (a buffer) while reading from or writing to a file. This allows data to be collected and processed in larger chunks, rather than handling each byte or small portion of data individually, which can be inefficient.\n",
        "\n",
        "# When a file is opened, the system may use a buffer to accumulate input or output operations. Data from the file is read into the buffer (when reading), or data is written from the buffer to the file (when writing) in larger chunks, improving efficiency and reducing the number of actual I/O (input/output) operations.\n",
        "\n",
        "# How Buffering Works:\n",
        "# Reading: When you read data from a file, instead of reading byte-by-byte, the system reads a block of data into the buffer and serves it from there, reducing the number of slow disk access operations.\n",
        "# Writing: When writing data, the system collects the output in the buffer first and writes the entire block of data to the file in one go, instead of performing frequent, small write operations.\n",
        "# Types of Buffering:\n",
        "# Fully Buffered: Data is stored in the buffer until the buffer is full, and then it is written to or read from the disk.\n",
        "\n",
        "# For larger files, this reduces the number of disk accesses, improving performance.\n",
        "# Line Buffered: Data is buffered until a newline (\\n) is encountered. Once the newline is found, the entire line is written to the file or read.\n",
        "\n",
        "# Useful for scenarios where you need to handle data line-by-line, such as in text files.\n",
        "# Unbuffered: In this mode, data is written to or read from the file immediately, without using a buffer. This is the slowest method, as it involves multiple I/O operations.\n",
        "\n",
        "# Often used when working with real-time data where immediate action is necessary.\n",
        "# Advantages of Buffering:\n",
        "# Improved Performance: Reading and writing large blocks of data is more efficient than performing multiple small I/O operations. Each disk access has an overhead, so buffering reduces this overhead.\n",
        "\n",
        "# Fewer I/O Operations: Buffering minimizes the number of system calls for reading/writing data, which are relatively slow compared to operations in memory. For example, instead of making 1000 system calls for writing 1KB at a time, you can write a single 1MB block with one system call.\n",
        "\n",
        "# Memory Efficiency: Buffering stores data in memory temporarily, allowing operations to be processed in bulk, saving time when handling large files or repetitive read/write operations.\n",
        "\n",
        "# Smoother Execution: In write operations, buffering helps the program execute smoothly by decoupling the time taken to write data to disk. The program can continue collecting data in the buffer while the disk writes are performed in the background.\n",
        "\n",
        "# Control Over Buffering in Python:\n",
        "# In Python, you can control the buffering behavior when opening a file by specifying the buffering parameter in the open() function:"
      ]
    },
    {
      "cell_type": "code",
      "execution_count": null,
      "metadata": {
        "id": "1swqCx562ECF"
      },
      "outputs": [],
      "source": [
        "file = open('filename.txt', 'w', buffering=8192)"
      ]
    },
    {
      "cell_type": "code",
      "execution_count": null,
      "metadata": {
        "id": "Wxcim3NR2GVV"
      },
      "outputs": [],
      "source": [
        "with open('large_file.txt', 'w', buffering=8192) as file:\n",
        "    for i in range(100000):\n",
        "        file.write(f\"Line {i}\\n\")"
      ]
    },
    {
      "cell_type": "code",
      "execution_count": null,
      "metadata": {
        "id": "-ukl3REc2Jj8"
      },
      "outputs": [],
      "source": [
        "#Q.7 Describe the steps involved in implementing buffered file handling in a programming language of your choice."
      ]
    },
    {
      "cell_type": "code",
      "execution_count": null,
      "metadata": {
        "id": "xxUtayPD2nC0"
      },
      "outputs": [],
      "source": [
        "# Steps Involved in Implementing Buffered File Handling:\n",
        "# 1. Open the File with Buffering Enabled:\n",
        "# First, the file must be opened in a mode that supports buffering.\n",
        "# In many languages, buffering is enabled by default, but you can specify a custom buffer size to optimize the performance.\n",
        "# Choose whether you want buffered reading or writing based on your use case."
      ]
    },
    {
      "cell_type": "code",
      "execution_count": null,
      "metadata": {
        "id": "b5HM1_gR4ZLQ"
      },
      "outputs": [],
      "source": [
        "file = open('example.txt', 'w', buffering=8192)"
      ]
    },
    {
      "cell_type": "code",
      "execution_count": null,
      "metadata": {
        "id": "mNwWmQ-e4cDK"
      },
      "outputs": [],
      "source": [
        "# 2. Use a Buffer to Accumulate Data (Write Operations):\n",
        "# When writing data to a file, the buffer will accumulate the data in memory instead of writing directly to disk after each operation.\n",
        "# The system writes data to the disk only when the buffer is full or when a flush/close operation is called."
      ]
    },
    {
      "cell_type": "code",
      "execution_count": null,
      "metadata": {
        "id": "oKFrqLgd4lMn"
      },
      "outputs": [],
      "source": [
        "with open('buffered_output.txt', 'w', buffering=8192) as file:\n",
        "    for i in range(1000):\n",
        "        file.write(f\"Line {i}\\n\")"
      ]
    },
    {
      "cell_type": "code",
      "execution_count": null,
      "metadata": {
        "id": "MNJCJAUi4qWm"
      },
      "outputs": [],
      "source": [
        "# 3. Use the Buffer for Reading (Read Operations):\n",
        "# When reading, data is loaded into the buffer in larger chunks instead of reading each byte or line individually from the disk.\n",
        "# This minimizes the number of disk access operations, which is costly in terms of time."
      ]
    },
    {
      "cell_type": "code",
      "execution_count": null,
      "metadata": {
        "id": "qBUjyDWY4xw_"
      },
      "outputs": [],
      "source": [
        "with open('large_file.txt', 'r', buffering=8192) as file:\n",
        "    data = file.read()"
      ]
    },
    {
      "cell_type": "code",
      "execution_count": null,
      "metadata": {
        "id": "nz12wiTu5Lke"
      },
      "outputs": [],
      "source": [
        "# 4. Control Flushing of the Buffer:\n",
        "# In write operations, you may want to control when the buffer is flushed (i.e., the data is actually written to disk).\n",
        "# This can be done manually using the flush() method, or you can rely on the automatic flushing that occurs when the buffer is full or the file is closed."
      ]
    },
    {
      "cell_type": "code",
      "execution_count": null,
      "metadata": {
        "id": "k4Pul5_o5TBl"
      },
      "outputs": [],
      "source": [
        "with open('buffered_output.txt', 'w', buffering=8192) as file:\n",
        "    file.write(\"This data is written but still in the buffer.\")\n",
        "    file.flush()"
      ]
    },
    {
      "cell_type": "code",
      "execution_count": null,
      "metadata": {
        "id": "xGPbgdSx5VIV"
      },
      "outputs": [],
      "source": [
        "# 5. Close the File:\n",
        "# When you're done with file operations, closing the file will automatically flush the buffer (if there’s data left in it) and release any associated resources."
      ]
    },
    {
      "cell_type": "code",
      "execution_count": null,
      "metadata": {
        "id": "Pfy7oTSI5eFt"
      },
      "outputs": [],
      "source": [
        "file.close()"
      ]
    },
    {
      "cell_type": "code",
      "execution_count": null,
      "metadata": {
        "id": "CCP8NxIb5hTt"
      },
      "outputs": [],
      "source": [
        "# Example in C for Buffered File Handling:\n",
        "# C language also supports buffering in file I/O through standard I/O functions like fopen(), fread(), fwrite(), etc., which provide buffered file handling by default.\n",
        "\n",
        "# Steps in C:"
      ]
    },
    {
      "cell_type": "code",
      "execution_count": null,
      "metadata": {
        "id": "cQXyX0cO5u-c"
      },
      "outputs": [],
      "source": [
        "FILE *file = fopen(\"example.txt\", \"w\");\n",
        "if (file == NULL) {\n",
        "    perror(\"Error opening file\");\n",
        "    return -1;\n",
        "}"
      ]
    },
    {
      "cell_type": "code",
      "execution_count": null,
      "metadata": {
        "id": "zkTlV2Ci56w8"
      },
      "outputs": [],
      "source": [
        "#.2 Write to the Buffer with fwrite():"
      ]
    },
    {
      "cell_type": "code",
      "execution_count": null,
      "metadata": {
        "id": "ZWji9IO66GjM"
      },
      "outputs": [],
      "source": [
        "char data[] = \"This is buffered data.\";\n",
        "fwrite(data, sizeof(char), sizeof(data), file);  // Writing data to buffer"
      ]
    },
    {
      "cell_type": "code",
      "execution_count": null,
      "metadata": {
        "id": "UWGpBVzh6J-a"
      },
      "outputs": [],
      "source": [
        "#.3 Flush the Buffer Manually (Optional):"
      ]
    },
    {
      "cell_type": "code",
      "execution_count": null,
      "metadata": {
        "id": "yd9K1sNR6XjD"
      },
      "outputs": [],
      "source": [
        "fflush(file);  // Manually flush the buffer to ensure data is written to disk\n"
      ]
    },
    {
      "cell_type": "code",
      "execution_count": null,
      "metadata": {
        "id": "OmOyCidn6b1B"
      },
      "outputs": [],
      "source": [
        "#.4 Close the File:"
      ]
    },
    {
      "cell_type": "code",
      "execution_count": null,
      "metadata": {
        "id": "n-uMpH136g-y"
      },
      "outputs": [],
      "source": [
        "fclose(file);  // Flushes the buffer and closes the file\n"
      ]
    },
    {
      "cell_type": "code",
      "execution_count": null,
      "metadata": {
        "id": "UqS4Ul-i6kdK"
      },
      "outputs": [],
      "source": [
        "# Benefits of Buffered File Handling:\n",
        "# Performance: Significantly reduces the number of I/O operations by minimizing system calls and disk access operations.\n",
        "# Resource Efficiency: Uses system memory (buffers) to optimize read/write operations.\n",
        "# Controlled I/O: Allows you to decide when to flush the buffer or use line buffering for interactive or real-time applications."
      ]
    },
    {
      "cell_type": "code",
      "execution_count": null,
      "metadata": {
        "id": "uaveoxCX6pEy"
      },
      "outputs": [],
      "source": [
        "#Q.8 Write a python function to read a text file using buffered reading and return its contents."
      ]
    },
    {
      "cell_type": "code",
      "execution_count": null,
      "metadata": {
        "colab": {
          "base_uri": "https://localhost:8080/"
        },
        "id": "aCJle6L6-vbi",
        "outputId": "b0cfcb76-5f19-47c4-ce67-10d5d8b01411"
      },
      "outputs": [
        {
          "name": "stdout",
          "output_type": "stream",
          "text": [
            "\n"
          ]
        }
      ],
      "source": [
        "def read_file_with_buffer(filename, buffer_size=8192):\n",
        "    \"\"\"\n",
        "    Reads the contents of a file using buffered reading and returns the content as a string.\n",
        "\n",
        "    :param filename: The path to the file to be read.\n",
        "    :param buffer_size: The size of the buffer in bytes (default is 8KB).\n",
        "    :return: The contents of the file as a string.\n",
        "    \"\"\"\n",
        "    content = ''\n",
        "\n",
        "    with open(filename, 'r', buffering=buffer_size) as file:\n",
        "        while True:\n",
        "            chunk = file.read(buffer_size)\n",
        "            if not chunk:\n",
        "                break\n",
        "            content += chunk\n",
        "\n",
        "    return content\n",
        "\n",
        "file_content = read_file_with_buffer('example.txt')\n",
        "print(file_content)"
      ]
    },
    {
      "cell_type": "code",
      "execution_count": null,
      "metadata": {
        "id": "wt0P_dAu--Gg"
      },
      "outputs": [],
      "source": [
        "file_content = read_file_with_buffer('sample.txt', buffer_size=4096)\n",
        "print(file_content)\n"
      ]
    },
    {
      "cell_type": "code",
      "execution_count": null,
      "metadata": {
        "id": "Jj2iHhwf_NS4"
      },
      "outputs": [],
      "source": [
        "#Q.9 What are the advantages of using buffered reading over direct file reading in python?"
      ]
    },
    {
      "cell_type": "code",
      "execution_count": null,
      "metadata": {
        "id": "Rt1YtD_b_pkY"
      },
      "outputs": [],
      "source": [
        "# Buffered reading offers several advantages over direct file reading in Python, particularly when working with large files or when performance is a key concern. Below are the key benefits:\n",
        "\n",
        "# 1. Improved Performance:\n",
        "# Fewer System Calls: Buffered reading reduces the number of system calls to the disk, which are relatively slow. Instead of making a system call for every byte or line, the program reads larger chunks of data into memory at once, minimizing the overhead.\n",
        "# Efficient Disk Access: Disk access is one of the most time-consuming operations. Buffered reading allows you to load data in larger chunks (usually a few kilobytes at a time), reducing the number of disk I/O operations and making the program faster.\n",
        "# 2. Reduced Latency:\n",
        "# With direct file reading (such as reading byte-by-byte or character-by-character), there is more latency because each read operation may require an I/O call. Buffered reading minimizes the latency by loading multiple characters or lines at once, making data access quicker.\n",
        "# 3. Memory Efficiency:\n",
        "# Buffered reading strikes a balance between speed and memory usage. It allows the program to handle large files in chunks rather than reading the entire file into memory at once, which is particularly useful for memory-constrained systems or when handling large datasets.\n",
        "# In contrast, direct reading using methods like file.read() without a buffer may try to load the entire file into memory, leading to potential memory overflow issues when handling large files.\n",
        "# 4. Optimal for Large Files:\n",
        "# Reading large files line by line or chunk by chunk using buffered reading is much more efficient than loading the entire file at once.\n",
        "# Direct file reading of large files may exhaust system memory or slow down the process significantly, whereas buffered reading ensures that only a portion of the file is in memory at any time, allowing the system to handle much larger files smoothly.\n",
        "# 5. Smoother Handling of Text Streams:\n",
        "# When reading data from a stream (like from a file or network socket), buffered reading allows the program to consume data in a more manageable way, making it smoother for text streams. Without buffering, reading might be too slow for real-time applications.\n",
        "# 6. Control Over Buffer Size:\n",
        "# Buffered reading allows control over the size of the buffer (e.g., 4KB, 8KB, etc.), which can be tuned for specific use cases to maximize performance based on the system’s memory and the file size.\n",
        "# For example, increasing the buffer size for reading large files can improve performance, while smaller buffers can be used for more memory-sensitive applications.\n",
        "# 7. Reduced CPU Load:\n",
        "# With direct reading, the CPU must repeatedly handle I/O calls for each small chunk of data. Buffered reading reduces this burden, as fewer I/O calls are made due to the larger chunks of data being loaded in one go.\n",
        "# This reduces the overall CPU load, especially in scenarios where frequent I/O operations are involved.\n",
        "# 8. Efficient Network or Cloud-Based File Access:\n",
        "# When reading files from network storage or cloud-based systems, buffered reading helps reduce network latency and load by fetching larger chunks of data in fewer requests. This improves overall transfer rates and ensures efficient handling of remote files.\n",
        "# 9. Seamless Integration with Other Python Features:\n",
        "# Buffered reading can be easily combined with other Python features like iterating through files line-by-line using for line in file: or using file.read(size) to read data in specified chunks, allowing you to process the file efficiently while still using familiar Python syntax.\n",
        "# Comparison Between Buffered and Direct Reading:\n",
        "# Aspect\tBuffered Reading\tDirect Reading\n",
        "# Performance\tHigh, due to fewer system calls\tLower, frequent system calls\n",
        "# Memory Usage\tEfficient, reads in chunks\tCan be inefficient with large files\n",
        "# Latency\tReduced, as larger blocks are read at once\tHigher, due to byte-by-byte reading\n",
        "# I/O Operations\tFewer, as data is read in bulk\tMany, due to small data reads\n",
        "# Best Use Cases\tLarge files, performance-critical apps\tSmall files, when immediate results needed\n",
        "# Flexibility\tControl over buffer size (e.g., 4KB, 8KB)\tNo buffer control"
      ]
    },
    {
      "cell_type": "code",
      "execution_count": null,
      "metadata": {
        "id": "WcOQG1du_-dW"
      },
      "outputs": [],
      "source": [
        "# Example of Buffered vs. Direct Reading:\n",
        "# Buffered Reading (Efficient):"
      ]
    },
    {
      "cell_type": "code",
      "execution_count": null,
      "metadata": {
        "id": "6xrYy5fXAOHe"
      },
      "outputs": [],
      "source": [
        "with open('large_file.txt', 'r', buffering=8192) as file:\n",
        "    while True:\n",
        "        chunk = file.read(8192)\n",
        "        if not chunk:\n",
        "            break\n",
        "        process(chunk)"
      ]
    },
    {
      "cell_type": "code",
      "execution_count": null,
      "metadata": {
        "id": "JMY-DdsCAV6s"
      },
      "outputs": [],
      "source": [
        "# Direct Reading (Inefficient for large files):"
      ]
    },
    {
      "cell_type": "code",
      "execution_count": null,
      "metadata": {
        "id": "iktYDQHJAZG9"
      },
      "outputs": [],
      "source": [
        "with open('large_file.txt', 'r') as file:\n",
        "    data = file.read()\n",
        "    process(data)\n"
      ]
    },
    {
      "cell_type": "code",
      "execution_count": null,
      "metadata": {
        "id": "vip9iR17Ag-L"
      },
      "outputs": [],
      "source": [
        "#Q.10 Write a python code snippet to append content to a file using buffered writing."
      ]
    },
    {
      "cell_type": "code",
      "execution_count": null,
      "metadata": {
        "id": "YgzEsyZWDPO_"
      },
      "outputs": [],
      "source": [
        "def append_to_file_with_buffer(filename, content, buffer_size=8192):\n",
        "    \"\"\"\n",
        "    Appends content to a file using buffered writing.\n",
        "\n",
        "    :param filename: The path to the file.\n",
        "    :param content: The content to append to the file.\n",
        "    :param buffer_size: Size of the buffer in bytes (default is 8KB).\n",
        "    \"\"\"\n",
        "    with open(filename, 'a', buffering=buffer_size) as file:\n",
        "        file.write(content)\n",
        "\n",
        "content_to_append = \"\\nThis is the new content being appended.\"\n",
        "append_to_file_with_buffer('example.txt', content_to_append, buffer_size=4096)"
      ]
    },
    {
      "cell_type": "code",
      "execution_count": null,
      "metadata": {
        "id": "mpV0Cf_3DZof"
      },
      "outputs": [],
      "source": [
        "# Q.11 Write a python function that demonstrates the use of close()method on a file."
      ]
    },
    {
      "cell_type": "code",
      "execution_count": null,
      "metadata": {
        "colab": {
          "base_uri": "https://localhost:8080/"
        },
        "id": "uU0H5pAhEOS9",
        "outputId": "06530e62-f406-418d-d810-59476cef73a7"
      },
      "outputs": [
        {
          "name": "stdout",
          "output_type": "stream",
          "text": [
            "Closing the file...\n",
            "The file 'example_file.txt' has been successfully closed.\n"
          ]
        }
      ],
      "source": [
        "def write_and_close_file(filename, content):\n",
        "    \"\"\"\n",
        "    Writes content to a file and closes the file using the close() method.\n",
        "\n",
        "    :param filename: The path to the file.\n",
        "    :param content: The content to write to the file.\n",
        "    \"\"\"\n",
        "    file = open(filename, 'w')\n",
        "\n",
        "    file.write(content)\n",
        "\n",
        "    print(\"Closing the file...\")\n",
        "    file.close()\n",
        "\n",
        "    if file.closed:\n",
        "        print(f\"The file '{filename}' has been successfully closed.\")\n",
        "    else:\n",
        "        print(f\"The file '{filename}' is still open.\")\n",
        "\n",
        "write_and_close_file('example_file.txt', 'This is a test content.')"
      ]
    },
    {
      "cell_type": "code",
      "execution_count": null,
      "metadata": {
        "id": "78mZfFpgEO_d"
      },
      "outputs": [],
      "source": [
        "#Q.12 Create a python function to showcase the detach()method on a file object."
      ]
    },
    {
      "cell_type": "code",
      "execution_count": null,
      "metadata": {
        "colab": {
          "base_uri": "https://localhost:8080/"
        },
        "id": "7zjF0gQqPF6k",
        "outputId": "02483427-4a4d-4e56-b481-9b405e728e35"
      },
      "outputs": [
        {
          "output_type": "stream",
          "name": "stdout",
          "text": [
            "Error: underlying buffer has been detached\n"
          ]
        }
      ],
      "source": [
        "import io\n",
        "\n",
        "def demonstrate_detach_method(file_name):\n",
        "    \"\"\"\n",
        "    Demonstrates the use of the detach() method on a file object.\n",
        "\n",
        "    :param file_name: The name of the file to open and demonstrate detach().\n",
        "    \"\"\"\n",
        "    with open(file_name, 'wb') as f:\n",
        "\n",
        "        wrapper = io.TextIOWrapper(f, encoding='utf-8')\n",
        "\n",
        "        wrapper.write(\"This is some sample text.\")\n",
        "\n",
        "        raw_file = wrapper.detach()\n",
        "\n",
        "        try:\n",
        "            wrapper.write(\"Trying to write after detach...\")\n",
        "        except ValueError as e:\n",
        "            print(f\"Error: {e}\")\n",
        "\n",
        "        raw_file.write(b\"\\nThis is binary content after detaching.\")\n",
        "\n",
        "        raw_file.close()\n",
        "\n",
        "demonstrate_detach_method('example_binary.txt')"
      ]
    },
    {
      "cell_type": "code",
      "execution_count": null,
      "metadata": {
        "id": "uF7MtYh6PTRM"
      },
      "outputs": [],
      "source": [
        "#Q.13 Write a python function to demonstrate the use of the seek()method to change the file position."
      ]
    },
    {
      "cell_type": "code",
      "execution_count": null,
      "metadata": {
        "colab": {
          "base_uri": "https://localhost:8080/"
        },
        "id": "vMvcRMDOWMlZ",
        "outputId": "c6c819c5-1e44-4f54-a841-2b6d1747cf2d"
      },
      "outputs": [
        {
          "name": "stdout",
          "output_type": "stream",
          "text": [
            "Reading from the beginning:\n",
            "Hello, World!\n",
            "T\n",
            "\n",
            "Reading from the second line:\n",
            "his is a test file.\n",
            "We are usi\n",
            "\n",
            "Reading from the third line:\n",
            "e are using seek() method.\n",
            "\n"
          ]
        }
      ],
      "source": [
        "def demonstrate_seek():\n",
        "    with open('example.txt', 'w') as f:\n",
        "        f.write('Hello, World!\\n')\n",
        "        f.write('This is a test file.\\n')\n",
        "        f.write('We are using seek() method.\\n')\n",
        "\n",
        "    with open('example.txt', 'r') as f:\n",
        "        f.seek(0)\n",
        "        print('Reading from the beginning:')\n",
        "        print(f.read(15))\n",
        "\n",
        "        f.seek(15)\n",
        "        print('\\nReading from the second line:')\n",
        "        print(f.read(30))\n",
        "\n",
        "        f.seek(15 + len('This is a test file.\\n'))\n",
        "        print('\\nReading from the third line:')\n",
        "        print(f.read(40))\n",
        "\n",
        "demonstrate_seek()"
      ]
    },
    {
      "cell_type": "code",
      "execution_count": null,
      "metadata": {
        "id": "XEgOulAWWcuH"
      },
      "outputs": [],
      "source": [
        "#Q.14 Create a python function to return the file descriptor(integer number)of a file using the fileno()method."
      ]
    },
    {
      "cell_type": "code",
      "execution_count": null,
      "metadata": {
        "colab": {
          "base_uri": "https://localhost:8080/"
        },
        "id": "50x3bWwSY40S",
        "outputId": "1401635f-ce06-43d7-a236-59cc3b333893"
      },
      "outputs": [
        {
          "name": "stdout",
          "output_type": "stream",
          "text": [
            "File Descriptor: 42\n"
          ]
        }
      ],
      "source": [
        "def get_file_descriptor(filename):\n",
        "    try:\n",
        "\n",
        "        with open(filename, 'r') as file:\n",
        "            file_descriptor = file.fileno()\n",
        "            return file_descriptor\n",
        "    except FileNotFoundError:\n",
        "        return f\"The file '{filename}' does not exist.\"\n",
        "    except Exception as e:\n",
        "        return str(e)\n",
        "\n",
        "filename = 'example.txt'\n",
        "descriptor = get_file_descriptor(filename)\n",
        "print(f\"File Descriptor: {descriptor}\")"
      ]
    },
    {
      "cell_type": "code",
      "execution_count": null,
      "metadata": {
        "id": "wGPqC2Q7Y9U3"
      },
      "outputs": [],
      "source": [
        "#Q.15 Write a python function to return the current position of the file's object using the tell()method."
      ]
    },
    {
      "cell_type": "code",
      "execution_count": null,
      "metadata": {
        "colab": {
          "base_uri": "https://localhost:8080/"
        },
        "id": "tATtj0utZY9G",
        "outputId": "d89e8d1a-d5d8-4086-bb4b-204a33860712"
      },
      "outputs": [
        {
          "name": "stdout",
          "output_type": "stream",
          "text": [
            "Current File Position: 10\n"
          ]
        }
      ],
      "source": [
        "def get_file_position(filename):\n",
        "    try:\n",
        "        with open(filename, 'r') as file:\n",
        "            content = file.read(10)\n",
        "\n",
        "            position = file.tell()\n",
        "            return position\n",
        "    except FileNotFoundError:\n",
        "        return f\"The file '{filename}' does not exist.\"\n",
        "    except Exception as e:\n",
        "        return str(e)\n",
        "\n",
        "filename = 'example.txt'\n",
        "current_position = get_file_position(filename)\n",
        "print(f\"Current File Position: {current_position}\")"
      ]
    },
    {
      "cell_type": "code",
      "execution_count": null,
      "metadata": {
        "id": "pUdZnT6dZe-e"
      },
      "outputs": [],
      "source": [
        "#Q.16 Create a python program that logs a message to a file using the logging module."
      ]
    },
    {
      "cell_type": "code",
      "execution_count": null,
      "metadata": {
        "colab": {
          "base_uri": "https://localhost:8080/"
        },
        "id": "reEVUnuJbLxi",
        "outputId": "7b9b30b6-cb2e-4e4c-f7cf-b07a6e523d34"
      },
      "outputs": [
        {
          "name": "stdout",
          "output_type": "stream",
          "text": [
            "Message logged to file.\n"
          ]
        }
      ],
      "source": [
        "import logging\n",
        "\n",
        "logging.basicConfig(filename='app.log', level=logging.INFO,\n",
        "                    format='%(asctime)s - %(levelname)s - %(message)s')\n",
        "\n",
        "logging.info('This is an info message')\n",
        "\n",
        "print(\"Message logged to file.\")"
      ]
    },
    {
      "cell_type": "code",
      "execution_count": null,
      "metadata": {
        "id": "FRo3uXQ44Je3"
      },
      "outputs": [],
      "source": [
        "#Q.17 Explain the importance of logging levels in python's logging module."
      ]
    },
    {
      "cell_type": "code",
      "execution_count": null,
      "metadata": {
        "id": "kqW6J2rCF3cN"
      },
      "outputs": [],
      "source": [
        "# Logging levels in Python’s logging module are critical for controlling the granularity of the log messages captured and ensuring that only relevant information is stored or displayed. These levels help differentiate between various types of log messages based on their importance or severity. Here’s why logging levels are important:\n",
        "\n",
        "# 1. Organizing Log Messages by Severity\n",
        "# Logging levels provide a structured way to classify log messages according to their severity or importance:\n",
        "\n",
        "# DEBUG: Provides detailed information, typically useful for diagnosing problems. This level is intended for use during development.\n",
        "# INFO: Confirms that things are working as expected. It’s typically used for general events or progress tracking.\n",
        "# WARNING: Indicates a potential problem that is not immediately critical but may need attention in the future.\n",
        "# ERROR: Shows that something has failed in the program, but the software may still continue running.\n",
        "# CRITICAL: Represents a serious error that could prevent the program from continuing execution.\n",
        "# 2. Filtering Logs Based on Importance\n",
        "# Logging levels allow you to control which messages should be processed or displayed. For instance, in a production environment, you might set the logging level to ERROR or CRITICAL to reduce noise and only capture severe issues. In contrast, during development, you might enable DEBUG or INFO to capture more detailed diagnostic information.\n",
        "# 3. Improving Performance\n",
        "# Logging every detail (especially with DEBUG level) can slow down the application. By setting the logging level to a higher threshold (like ERROR), you can minimize the performance impact by reducing the amount of data written to log files.\n",
        "# 4. Enhancing Readability and Troubleshooting\n",
        "# Logs become more readable when categorized by severity. This helps developers and system administrators to quickly identify critical issues (CRITICAL or ERROR), while also keeping an eye on non-critical warnings (WARNING), or general operational information (INFO).\n",
        "# 5. Customizing Log Handling\n",
        "# The logging system can be configured to handle different levels in different ways. For instance, ERROR and CRITICAL messages might be sent to administrators via email or other notification systems, while DEBUG and INFO logs can be written to a file for later inspection."
      ]
    },
    {
      "cell_type": "code",
      "execution_count": null,
      "metadata": {
        "id": "0LygmuFOGGFS"
      },
      "outputs": [],
      "source": [
        "import logging\n",
        "\n",
        "logging.basicConfig(level=logging.INFO)\n",
        "\n",
        "logging.debug('This is a debug message')\n",
        "logging.info('This is an info message')\n",
        "logging.warning('This is a warning message')\n",
        "logging.error('This is an error message')\n",
        "logging.critical('This is a critical message')"
      ]
    },
    {
      "cell_type": "code",
      "execution_count": null,
      "metadata": {
        "id": "I2JbgyRb_YUl"
      },
      "outputs": [],
      "source": [
        "#Q.18 Create a python program that uses the debugger to find the value of a variable inside a loop."
      ]
    },
    {
      "cell_type": "code",
      "source": [
        "import pdb\n",
        "\n",
        "def find_value_in_loop():\n",
        "    numbers = [10, 20, 30, 40, 50]\n",
        "    result = 0\n",
        "    for i, num in enumerate(numbers):\n",
        "        pdb.set_trace()\n",
        "        result += num\n",
        "        print(f\"Iteration {i}: Current result = {result}\")\n",
        "    return result\n",
        "\n",
        "find_value_in_loop()\n"
      ],
      "metadata": {
        "id": "ijlD1-Uurxif"
      },
      "execution_count": null,
      "outputs": []
    },
    {
      "cell_type": "code",
      "source": [
        "#Q.19 Create a python program that demonstrates setting breakpoints and inspecting variables using the debugger."
      ],
      "metadata": {
        "id": "8lDxrRZNuLxZ"
      },
      "execution_count": null,
      "outputs": []
    },
    {
      "cell_type": "code",
      "source": [
        "import pdb\n",
        "\n",
        "def calculate_area(radius):\n",
        "    pdb.set_trace()\n",
        "    area = 3.14159 * radius ** 2\n",
        "    return area\n",
        "\n",
        "def calculate_circumference(radius):\n",
        "    pdb.set_trace()\n",
        "    circumference = 2 * 3.14159 * radius\n",
        "    return circumference\n",
        "\n",
        "def main():\n",
        "    radius = 5\n",
        "    area = calculate_area(radius)\n",
        "    print(f\"Area of circle with radius {radius} is {area}\")\n",
        "\n",
        "    radius = 10\n",
        "    circumference = calculate_circumference(radius)\n",
        "    print(f\"Circumference of circle with radius {radius} is {circumference}\")\n",
        "\n",
        "if __name__ == \"__main__\":\n",
        "    main()"
      ],
      "metadata": {
        "id": "gE9ZdZxJ3LAI"
      },
      "execution_count": null,
      "outputs": []
    },
    {
      "cell_type": "code",
      "source": [
        "python -m pdb debug_example.py"
      ],
      "metadata": {
        "id": "gN-h781k3mS0"
      },
      "execution_count": null,
      "outputs": []
    },
    {
      "cell_type": "code",
      "source": [
        "#Q.20 Create a python program that uses the debugger to trace a recursive function."
      ],
      "metadata": {
        "id": "_JPJTqTi3oki"
      },
      "execution_count": null,
      "outputs": []
    },
    {
      "cell_type": "code",
      "source": [
        "import pdb\n",
        "\n",
        "def factorial(n):\n",
        "    pdb.set_trace()\n",
        "    if n == 0 or n == 1:\n",
        "        return 1\n",
        "    else:\n",
        "        return n * factorial(n - 1)\n",
        "\n",
        "print(\"Factorial of 5 is:\", factorial(5))"
      ],
      "metadata": {
        "id": "sIneVCrW4awc"
      },
      "execution_count": null,
      "outputs": []
    },
    {
      "cell_type": "code",
      "source": [
        "#Q.21 Write a try-except block to handle a ZeroDivisionError."
      ],
      "metadata": {
        "id": "hXBNURHqsXoT"
      },
      "execution_count": null,
      "outputs": []
    },
    {
      "cell_type": "code",
      "source": [
        "try:\n",
        "    result = 10 / 0\n",
        "except ZeroDivisionError:\n",
        "    print(\"Error: Cannot divide by zero.\")\n"
      ],
      "metadata": {
        "id": "sEcJBy86s5Aj",
        "colab": {
          "base_uri": "https://localhost:8080/"
        },
        "outputId": "c782f05c-187f-49f4-c5b5-14be450e2921"
      },
      "execution_count": null,
      "outputs": [
        {
          "output_type": "stream",
          "name": "stdout",
          "text": [
            "Error: Cannot divide by zero.\n"
          ]
        }
      ]
    },
    {
      "cell_type": "code",
      "source": [
        "#Q.22 How does the else block work with try-except?"
      ],
      "metadata": {
        "id": "S_-F5Fi009ba"
      },
      "execution_count": null,
      "outputs": []
    },
    {
      "cell_type": "code",
      "source": [
        "try:\n",
        "\n",
        "except SomeException:\n",
        "\n",
        "else:\n"
      ],
      "metadata": {
        "id": "qDLSItmebf0S"
      },
      "execution_count": null,
      "outputs": []
    },
    {
      "cell_type": "code",
      "source": [
        "try:\n",
        "    number = int(input(\"Enter a number: \"))\n",
        "    result = 10 / number\n",
        "except ValueError:\n",
        "    print(\"Invalid input! Please enter a number.\")\n",
        "except ZeroDivisionError:\n",
        "    print(\"Cannot divide by zero!\")\n",
        "else:\n",
        "    print(\"The result is:\", result)"
      ],
      "metadata": {
        "colab": {
          "base_uri": "https://localhost:8080/"
        },
        "id": "EmVwcY5-btvw",
        "outputId": "42f1ffc9-8fa2-48ff-e6fa-5b0956bf6dea"
      },
      "execution_count": null,
      "outputs": [
        {
          "output_type": "stream",
          "name": "stdout",
          "text": [
            "Enter a number: 32\n",
            "The result is: 0.3125\n"
          ]
        }
      ]
    },
    {
      "cell_type": "code",
      "source": [
        "#Q.23 Implement a try-except-else block to open and read a file."
      ],
      "metadata": {
        "id": "mlKBRiHUbvrR"
      },
      "execution_count": null,
      "outputs": []
    },
    {
      "cell_type": "code",
      "source": [
        "try:\n",
        "    file = open(\"example.txt\", \"r\")\n",
        "except FileNotFoundError:\n",
        "    print(\"The file was not found.\")\n",
        "except IOError:\n",
        "    print(\"An error occurred while trying to read the file.\")\n",
        "else:\n",
        "    content = file.read()\n",
        "    print(\"File content:\")\n",
        "    print(content)\n",
        "    file.close()"
      ],
      "metadata": {
        "colab": {
          "base_uri": "https://localhost:8080/"
        },
        "id": "dSpDYPIFcrlA",
        "outputId": "50724aae-cde9-414e-9bbd-68e0fc39f3ac"
      },
      "execution_count": null,
      "outputs": [
        {
          "output_type": "stream",
          "name": "stdout",
          "text": [
            "The file was not found.\n"
          ]
        }
      ]
    },
    {
      "cell_type": "code",
      "source": [
        "#Q.24 What is the purpose of the finally block in exception handling."
      ],
      "metadata": {
        "id": "icwpeI_Qc3lO"
      },
      "execution_count": null,
      "outputs": []
    },
    {
      "cell_type": "code",
      "source": [
        "try:\n",
        "except SomeException:\n",
        "else:\n",
        "finally:"
      ],
      "metadata": {
        "id": "sMxyPhC_dsvF"
      },
      "execution_count": null,
      "outputs": []
    },
    {
      "cell_type": "code",
      "source": [
        "try:\n",
        "    file = open(\"example.txt\", \"r\")\n",
        "    content = file.read()\n",
        "except FileNotFoundError:\n",
        "    print(\"File not found.\")\n",
        "else:\n",
        "    print(\"File content:\")\n",
        "    print(content)\n",
        "finally:\n",
        "    print(\"Closing the file.\")\n",
        "    if 'file' in locals() and not file.closed:\n",
        "        file.close()"
      ],
      "metadata": {
        "colab": {
          "base_uri": "https://localhost:8080/"
        },
        "id": "plHiSBoUd3Rc",
        "outputId": "f949627d-df94-4bf6-85d8-3153276719af"
      },
      "execution_count": null,
      "outputs": [
        {
          "output_type": "stream",
          "name": "stdout",
          "text": [
            "File not found.\n",
            "Closing the file.\n"
          ]
        }
      ]
    },
    {
      "cell_type": "code",
      "source": [
        "#Q.25 Write a try-except-finally block to handle a ValueError."
      ],
      "metadata": {
        "id": "v9kkF9r6d5Xk"
      },
      "execution_count": null,
      "outputs": []
    },
    {
      "cell_type": "code",
      "source": [
        "try:\n",
        "    number = int(input(\"Enter a number: \"))\n",
        "    print(\"The number you entered is:\", number)\n",
        "except ValueError:\n",
        "    print(\"Invalid input! Please enter a valid integer.\")\n",
        "finally:\n",
        "    print(\"Attempt to convert input completed.\")"
      ],
      "metadata": {
        "colab": {
          "base_uri": "https://localhost:8080/"
        },
        "id": "SD27-mTQeLrj",
        "outputId": "6a055dff-9724-48d3-bb11-0b7b1abaf7f5"
      },
      "execution_count": null,
      "outputs": [
        {
          "output_type": "stream",
          "name": "stdout",
          "text": [
            "Enter a number: 35.7\n",
            "Invalid input! Please enter a valid integer.\n",
            "Attempt to convert input completed.\n"
          ]
        }
      ]
    },
    {
      "cell_type": "code",
      "source": [
        "#Q.26 How Multiple except blocks work in python?"
      ],
      "metadata": {
        "id": "gU9VE_77eQ1K"
      },
      "execution_count": null,
      "outputs": []
    },
    {
      "cell_type": "code",
      "source": [
        "# Multiple Except Blocks: Each except block can handle a different exception type. If an exception is raised in the try block, Python will check each except block in order to see if it matches the type of the exception.\n",
        "\n",
        "# Execution Order: Python will execute the first except block that matches the exception type. Once a matching block is found, subsequent except blocks are ignored, and the exception is considered handled.\n",
        "\n",
        "# Generic Exception Handling: You can add a generic except block (like except Exception: or just except:) at the end to catch any exceptions that weren’t explicitly matched by earlier blocks. However, it’s generally a good practice to handle specific exceptions before using a generic one."
      ],
      "metadata": {
        "id": "ipYeX-S5-R6A"
      },
      "execution_count": null,
      "outputs": []
    },
    {
      "cell_type": "code",
      "source": [
        "try:\n",
        "    number = int(input(\"Enter a number: \"))\n",
        "    result = 10 / number\n",
        "except ValueError:\n",
        "    print(\"This is not a valid number.\")\n",
        "except ZeroDivisionError:\n",
        "    print(\"You cannot divide by zero.\")\n",
        "except Exception as e:\n",
        "    print(f\"An unexpected error occurred: {e}\")"
      ],
      "metadata": {
        "colab": {
          "base_uri": "https://localhost:8080/"
        },
        "id": "MNuaxF2K-tq9",
        "outputId": "4be9fdeb-ee47-489d-92d1-e3a07577cce3"
      },
      "execution_count": null,
      "outputs": [
        {
          "output_type": "stream",
          "name": "stdout",
          "text": [
            "Enter a number: 2.3\n",
            "This is not a valid number.\n"
          ]
        }
      ]
    },
    {
      "cell_type": "code",
      "source": [
        "#Q.27 What is a custom exception in python?"
      ],
      "metadata": {
        "id": "9mu9_Hbe-wvE"
      },
      "execution_count": null,
      "outputs": []
    },
    {
      "cell_type": "code",
      "source": [
        "class MyCustomError(Exception):\n",
        "    \"\"\"Custom exception for specific error conditions.\"\"\"\n",
        "    def __init__(self, message):\n",
        "        super().__init__(message)"
      ],
      "metadata": {
        "id": "GNviHXHr_5Jc"
      },
      "execution_count": null,
      "outputs": []
    },
    {
      "cell_type": "code",
      "source": [
        "def check_positive(number):\n",
        "    if number < 0:\n",
        "        raise MyCustomError(\"Number must be positive.\")\n",
        "    return number\n",
        "\n",
        "try:\n",
        "    check_positive(-5)\n",
        "except MyCustomError as e:\n",
        "    print(f\"Custom exception caught: {e}\")"
      ],
      "metadata": {
        "colab": {
          "base_uri": "https://localhost:8080/"
        },
        "id": "HDU4HlwYAMTB",
        "outputId": "0c0321d7-711f-4ad2-bd40-afb5f0745a4c"
      },
      "execution_count": null,
      "outputs": [
        {
          "output_type": "stream",
          "name": "stdout",
          "text": [
            "Custom exception caught: Number must be positive.\n"
          ]
        }
      ]
    },
    {
      "cell_type": "code",
      "source": [
        "#Q.28 Create a custom exception class with a message."
      ],
      "metadata": {
        "id": "vrA7wkRHAPFp"
      },
      "execution_count": null,
      "outputs": []
    },
    {
      "cell_type": "code",
      "source": [
        "class InvalidInputError(Exception):\n",
        "    \"\"\"Exception raised for invalid inputs with a custom message.\"\"\"\n",
        "\n",
        "    def __init__(self, message=\"Invalid input provided\"):\n",
        "        self.message = message\n",
        "        super().__init__(self.message)"
      ],
      "metadata": {
        "id": "XgBbraxgAkaZ"
      },
      "execution_count": null,
      "outputs": []
    },
    {
      "cell_type": "code",
      "source": [
        "def validate_input(value):\n",
        "    if value < 0:\n",
        "        raise InvalidInputError(\"Input cannot be negative.\")\n",
        "\n",
        "try:\n",
        "    validate_input(-10)\n",
        "except InvalidInputError as e:\n",
        "    print(f\"Custom Exception Caught: {e}\")"
      ],
      "metadata": {
        "colab": {
          "base_uri": "https://localhost:8080/"
        },
        "id": "1cE21vlYAxgI",
        "outputId": "8090ab23-0c23-42ed-d707-e876edff82da"
      },
      "execution_count": null,
      "outputs": [
        {
          "output_type": "stream",
          "name": "stdout",
          "text": [
            "Custom Exception Caught: Input cannot be negative.\n"
          ]
        }
      ]
    },
    {
      "cell_type": "code",
      "source": [
        "#Q.29 Write a code to raise a custom exception in python."
      ],
      "metadata": {
        "id": "nPly6PmPAzpx"
      },
      "execution_count": null,
      "outputs": []
    },
    {
      "cell_type": "code",
      "source": [
        "class AgeTooYoungError(Exception):\n",
        "    \"\"\"Exception raised when age is below the minimum allowed.\"\"\"\n",
        "    def __init__(self, message=\"Age is too young to proceed.\"):\n",
        "        self.message = message\n",
        "        super().__init__(self.message)"
      ],
      "metadata": {
        "id": "hXPKfIFgBHuH"
      },
      "execution_count": null,
      "outputs": []
    },
    {
      "cell_type": "code",
      "source": [
        "def check_age(age):\n",
        "    minimum_age = 18\n",
        "    if age < minimum_age:\n",
        "        raise AgeTooYoungError(f\"Age {age} is below the required minimum of {minimum_age}.\")\n",
        "    else:\n",
        "        print(\"Age is acceptable.\")\n",
        "\n",
        "try:\n",
        "    check_age(15)\n",
        "except AgeTooYoungError as e:\n",
        "    print(f\"Custom Exception Caught: {e}\")"
      ],
      "metadata": {
        "colab": {
          "base_uri": "https://localhost:8080/"
        },
        "id": "FfKJXDmzBNxv",
        "outputId": "7e7ea167-80e5-4b96-eaf2-b42892ee7ac2"
      },
      "execution_count": null,
      "outputs": [
        {
          "output_type": "stream",
          "name": "stdout",
          "text": [
            "Custom Exception Caught: Age 15 is below the required minimum of 18.\n"
          ]
        }
      ]
    },
    {
      "cell_type": "code",
      "source": [
        "#Q.30 Write a function that raises a custom exception when a value is negative."
      ],
      "metadata": {
        "id": "xYKvqVDOBQwX"
      },
      "execution_count": null,
      "outputs": []
    },
    {
      "cell_type": "code",
      "source": [
        "class NegativeValueError(Exception):\n",
        "    \"\"\"Exception raised when a negative value is encountered.\"\"\"\n",
        "    def __init__(self, message=\"Value cannot be negative\"):\n",
        "        self.message = message\n",
        "        super().__init__(self.message)\n"
      ],
      "metadata": {
        "id": "oUT-EwRuB3LO"
      },
      "execution_count": null,
      "outputs": []
    },
    {
      "cell_type": "code",
      "source": [
        "def check_positive(value):\n",
        "    if value < 0:\n",
        "        raise NegativeValueError(f\"Invalid input: {value} is negative.\")\n",
        "    else:\n",
        "        print(\"Value is positive.\")\n",
        "\n",
        "try:\n",
        "    check_positive(-10)\n",
        "except NegativeValueError as e:\n",
        "    print(f\"Custom Exception Caught: {e}\")"
      ],
      "metadata": {
        "colab": {
          "base_uri": "https://localhost:8080/"
        },
        "id": "KuyJcSaBDDMT",
        "outputId": "72ab9e34-057b-4f48-fbba-3672b9465ad0"
      },
      "execution_count": null,
      "outputs": [
        {
          "output_type": "stream",
          "name": "stdout",
          "text": [
            "Custom Exception Caught: Invalid input: -10 is negative.\n"
          ]
        }
      ]
    },
    {
      "cell_type": "code",
      "source": [
        "#Q.31 What is the role of try,except,else,and finally in handling exceptions."
      ],
      "metadata": {
        "id": "GwLWuzIdDI8C"
      },
      "execution_count": null,
      "outputs": []
    },
    {
      "cell_type": "code",
      "source": [
        "try:\n",
        "    result = 10 / 0\n"
      ],
      "metadata": {
        "id": "Y3DfpL1iJi_j"
      },
      "execution_count": null,
      "outputs": []
    },
    {
      "cell_type": "code",
      "source": [
        "except ZeroDivisionError:\n",
        "    print(\"You can't divide by zero!\")\n",
        "except Exception as e:\n",
        "    print(f\"An error occurred: {e}\")"
      ],
      "metadata": {
        "id": "AoZUhHBwMwSs"
      },
      "execution_count": null,
      "outputs": []
    },
    {
      "cell_type": "code",
      "source": [
        "try:\n",
        "    result = 10 / 2\n",
        "except ZeroDivisionError:\n",
        "    print(\"You can't divide by zero!\")\n",
        "else:\n",
        "    print(\"Division succeeded:\", result)"
      ],
      "metadata": {
        "colab": {
          "base_uri": "https://localhost:8080/"
        },
        "id": "p9ixr0KqMfsU",
        "outputId": "ab3a9d4a-60ab-4d70-fe7a-ae64a4fa8f1a"
      },
      "execution_count": null,
      "outputs": [
        {
          "output_type": "stream",
          "name": "stdout",
          "text": [
            "Division succeeded: 5.0\n"
          ]
        }
      ]
    },
    {
      "cell_type": "code",
      "source": [
        "try:\n",
        "    file = open(\"data.txt\", \"r\")\n",
        "    data = file.read()\n",
        "except FileNotFoundError:\n",
        "    print(\"File not found.\")\n",
        "else:\n",
        "    print(\"File read successfully.\")\n",
        "finally:\n",
        "    file.close()"
      ],
      "metadata": {
        "id": "EJSpupGlM0DF"
      },
      "execution_count": null,
      "outputs": []
    },
    {
      "cell_type": "code",
      "source": [
        "#Q.32 How can custom exceptions improve code readability and maintainability?"
      ],
      "metadata": {
        "id": "7tzWzn9IM-1L"
      },
      "execution_count": null,
      "outputs": []
    },
    {
      "cell_type": "code",
      "source": [
        "# Clearer Intent and Error Identification: Custom exceptions allow developers to create meaningful exception names that convey exactly what went wrong (e.g., InvalidUserInputException, DataNotFoundException). This makes it easier to understand the specific issues that might occur in the code, rather than relying on generic exceptions that don’t provide as much context.\n",
        "\n",
        "# More Granular Error Handling: Custom exceptions enable more precise handling of specific error conditions. For instance, different exceptions can be created for various types of input errors or data processing issues. This specificity helps in isolating and responding to different error conditions appropriately, making code logic easier to follow and manage.\n",
        "\n",
        "# Improved Code Maintenance: With custom exceptions, developers can manage and handle exceptions in a centralized way, which makes it easier to update and maintain code. If the error handling process needs to change, it can be modified at the custom exception level without affecting the entire codebase.\n",
        "\n",
        "# Enhanced Debugging and Logging: Custom exceptions help in creating more detailed error messages and logs. By defining custom exceptions, developers can provide additional context or attributes in exception messages that are helpful for debugging, making it easier to trace issues back to their root cause.\n",
        "\n",
        "# Cleaner Code Structure: By using custom exceptions, developers can avoid overuse of generic exceptions like Exception or RuntimeError, which often lead to ambiguous and hard-to-debug code. Custom exceptions create a more organized and hierarchical error-handling structure, making the code more readable and structured."
      ],
      "metadata": {
        "id": "O2mR8RWjsvUh"
      },
      "execution_count": null,
      "outputs": []
    },
    {
      "cell_type": "code",
      "source": [
        "#Q.33 What is multithreading?"
      ],
      "metadata": {
        "id": "pli0Y6Vwt4ek"
      },
      "execution_count": null,
      "outputs": []
    },
    {
      "cell_type": "code",
      "source": [
        "# Multithreading is a programming concept that allows multiple threads (smaller units of a process) to run concurrently within a single process. Each thread operates independently but shares the process’s resources, such as memory and data. Multithreading is commonly used to improve the efficiency and responsiveness of a program by enabling tasks to run in parallel, especially on systems with multiple CPU cores.\n",
        "\n",
        "# Key Concepts in Multithreading\n",
        "# Thread: A thread is the smallest unit of execution within a process. Each thread in a multithreaded program can perform a specific task concurrently with other threads.\n",
        "\n",
        "# Concurrency and Parallelism:\n",
        "\n",
        "# Concurrency allows threads to appear as if they are executing simultaneously, even on a single-core CPU, by interleaving their execution.\n",
        "# Parallelism enables threads to truly run at the same time on multi-core processors, allowing a performance boost in systems that support multiple cores.\n",
        "# Shared Resources: Threads in the same process share the same memory and resources, making communication between threads easier but also increasing the potential for issues like race conditions and deadlocks.\n",
        "\n",
        "# Synchronization: To prevent data corruption when threads access shared resources, synchronization mechanisms like locks, semaphores, and mutexes are used. These controls ensure that only one thread accesses a critical section of the code at a time.\n",
        "\n",
        "# Benefits of Multithreading\n",
        "# Improved Performance: By running tasks in parallel, multithreading can improve a program’s responsiveness and overall performance, especially on multi-core systems.\n",
        "# Responsive User Interfaces: In GUI applications, multithreading allows the UI to remain responsive while performing time-consuming tasks, such as downloading a file or processing data.\n",
        "# Efficient Resource Utilization: Multithreading can improve CPU utilization by running multiple threads when one thread is waiting for I/O operations or external resources.\n",
        "# Common Use Cases\n",
        "# Real-time applications where responsiveness is critical (e.g., video games, multimedia applications).\n",
        "# Applications that perform I/O operations, such as reading/writing files or networking, where some threads can be processing data while others wait for I/O completion.\n",
        "# Parallel processing tasks that can be divided into smaller, independent tasks that can run concurrently."
      ],
      "metadata": {
        "id": "ztVp2h6euGSM"
      },
      "execution_count": null,
      "outputs": []
    },
    {
      "cell_type": "code",
      "source": [
        "#Q.34 Create a thread in python."
      ],
      "metadata": {
        "id": "ry5iovNOuSjT"
      },
      "execution_count": null,
      "outputs": []
    },
    {
      "cell_type": "code",
      "source": [
        "import threading\n",
        "import time\n",
        "\n",
        "def print_numbers():\n",
        "    for i in range(1, 6):\n",
        "        print(f\"Number: {i}\")\n",
        "        time.sleep(1)\n",
        "\n",
        "thread = threading.Thread(target=print_numbers)\n",
        "\n",
        "thread.start()\n",
        "\n",
        "thread.join()\n",
        "\n",
        "print(\"Thread has finished execution.\")"
      ],
      "metadata": {
        "colab": {
          "base_uri": "https://localhost:8080/"
        },
        "id": "gTitACq0uhf7",
        "outputId": "96b280fb-8731-47e2-c237-97ab8be1d47d"
      },
      "execution_count": null,
      "outputs": [
        {
          "output_type": "stream",
          "name": "stdout",
          "text": [
            "Number: 1\n",
            "Number: 2\n",
            "Number: 3\n",
            "Number: 4\n",
            "Number: 5\n",
            "Thread has finished execution.\n"
          ]
        }
      ]
    },
    {
      "cell_type": "code",
      "source": [
        "#Q.35 What is the Global interpreter Lock (GIL) in python ?"
      ],
      "metadata": {
        "id": "55hbdZArutcp"
      },
      "execution_count": null,
      "outputs": []
    },
    {
      "cell_type": "code",
      "source": [
        "# Why Does Python Have the GIL?\n",
        "# The GIL was introduced primarily for memory management simplicity and to make CPython’s memory management safe, especially for reference counting, which is the mechanism CPython uses to keep track of and manage memory for Python objects. The GIL simplifies memory management by ensuring only one thread can interact with Python objects at any time, preventing potential issues such as race conditions and deadlocks in memory handling.\n",
        "\n",
        "# How the GIL Affects Multithreading in Python\n",
        "# Concurrency Limitation: Due to the GIL, only one thread can execute Python bytecode at a time. This limits the ability of threads to execute code in true parallel, meaning that CPU-bound tasks (tasks that require heavy CPU computation) do not gain much benefit from multithreading in CPython.\n",
        "\n",
        "# Impact on Multi-Core Processors: Even on multi-core processors, the GIL restricts CPU-bound Python code to a single core. As a result, Python programs that heavily rely on multithreading for computational work do not see significant performance improvements from additional CPU cores.\n",
        "\n",
        "# I/O-Bound Programs: The GIL’s impact is less significant in I/O-bound programs (programs waiting for input/output operations, such as file reads or network requests) because when a thread performs an I/O operation, the GIL is released, allowing other threads to run. This makes Python multithreading more effective for tasks that involve waiting for external resources.\n",
        "\n",
        "# Overcoming the GIL\n",
        "# Multiprocessing: The multiprocessing module can be used to create multiple processes, each with its own Python interpreter and memory space, which bypasses the GIL and allows for true parallelism across CPU cores.\n",
        "\n",
        "# Alternative Implementations: Some alternative Python implementations, such as Jython (Python on the JVM) and IronPython (Python on .NET), do not have a GIL and can achieve true multithreading. However, these implementations may lack compatibility with certain libraries designed for CPython.\n",
        "\n",
        "# Using C Extensions: Extensions written in C, like NumPy, can release the GIL when performing CPU-bound operations, allowing other threads to execute while the operation is in progress."
      ],
      "metadata": {
        "id": "owUbEMyvyxGJ"
      },
      "execution_count": null,
      "outputs": []
    },
    {
      "cell_type": "code",
      "source": [
        "#Q.36 Implement a simple multithreading example in python."
      ],
      "metadata": {
        "id": "JKFBuv7B0oGk"
      },
      "execution_count": null,
      "outputs": []
    },
    {
      "cell_type": "code",
      "source": [
        "import threading\n",
        "import time\n",
        "\n",
        "def print_numbers():\n",
        "    for i in range(1, 6):\n",
        "        print(f\"Number: {i}\")\n",
        "        time.sleep(1)\n",
        "\n",
        "def print_letters():\n",
        "    for letter in ['A', 'B', 'C', 'D', 'E']:\n",
        "        print(f\"Letter: {letter}\")\n",
        "        time.sleep(1)\n",
        "\n",
        "thread1 = threading.Thread(target=print_numbers)\n",
        "thread2 = threading.Thread(target=print_letters)\n",
        "\n",
        "thread1.start()\n",
        "thread2.start()\n",
        "\n",
        "thread1.join()\n",
        "thread2.join()\n",
        "\n",
        "print(\"Both threads have finished execution.\")"
      ],
      "metadata": {
        "colab": {
          "base_uri": "https://localhost:8080/"
        },
        "id": "l-L46sS72LA3",
        "outputId": "03d9a0d7-fda0-4522-d250-006a14372f48"
      },
      "execution_count": null,
      "outputs": [
        {
          "output_type": "stream",
          "name": "stdout",
          "text": [
            "Number: 1Letter: A\n",
            "\n",
            "Letter: B\n",
            "Number: 2\n",
            "Letter: CNumber: 3\n",
            "\n",
            "Letter: DNumber: 4\n",
            "\n",
            "Letter: E\n",
            "Number: 5\n",
            "Both threads have finished execution.\n"
          ]
        }
      ]
    },
    {
      "cell_type": "code",
      "source": [
        "#Q.37 What is the purpose of the 'join()'method in threading?"
      ],
      "metadata": {
        "id": "D1h9KNf22QOH"
      },
      "execution_count": null,
      "outputs": []
    },
    {
      "cell_type": "code",
      "source": [
        "# Purpose of join()\n",
        "# Synchronization: join() is commonly used to synchronize threads, ensuring that a program doesn’t proceed until a particular thread (or threads) has completed its task. This is useful when you need to wait for a thread to finish before executing subsequent code.\n",
        "\n",
        "# Avoiding Race Conditions: join() helps in avoiding race conditions where subsequent code depends on the result or completion of a thread. By using join(), you can ensure that the dependent code executes only after the thread has finished.\n",
        "\n",
        "# Orderly Program Termination: In a multithreaded program, join() can help ensure all threads have completed before the program terminates, preventing abrupt stops and potentially leaving resources open or in an unknown state."
      ],
      "metadata": {
        "id": "QekLO5Ng2umv"
      },
      "execution_count": null,
      "outputs": []
    },
    {
      "cell_type": "code",
      "source": [
        "import threading\n",
        "import time\n",
        "\n",
        "def task():\n",
        "    print(\"Thread started\")\n",
        "    time.sleep(2)\n",
        "    print(\"Thread finished\")\n",
        "\n",
        "thread = threading.Thread(target=task)\n",
        "\n",
        "thread.start()\n",
        "\n",
        "thread.join()\n",
        "\n",
        "print(\"Main program continues after thread finishes\")"
      ],
      "metadata": {
        "colab": {
          "base_uri": "https://localhost:8080/"
        },
        "id": "025sAu6v26W-",
        "outputId": "bbb674e3-9799-4c05-979d-95bfeb5f7af6"
      },
      "execution_count": null,
      "outputs": [
        {
          "output_type": "stream",
          "name": "stdout",
          "text": [
            "Thread started\n",
            "Thread finished\n",
            "Main program continues after thread finishes\n"
          ]
        }
      ]
    },
    {
      "cell_type": "code",
      "source": [
        "#Q.38 Describe a scenario where multithreading would be beneficial in python."
      ],
      "metadata": {
        "id": "sTEBLlZn2-CO"
      },
      "execution_count": null,
      "outputs": []
    },
    {
      "cell_type": "code",
      "source": [
        "# Scenario: Web Scraping with Multithreading\n",
        "# Suppose you are building a web scraper to gather data from hundreds of webpages. The process of scraping involves sending HTTP requests to each webpage, waiting for the server response, and then parsing the data. This task is I/O-bound because it spends more time waiting for server responses than performing actual computation.\n",
        "\n",
        "# Why Multithreading is Beneficial Here\n",
        "# Concurrent Requests: By using multiple threads, the scraper can send multiple requests simultaneously. While one thread is waiting for a response from a server, other threads can send requests to other servers or parse data from already received responses. This allows the program to use the waiting time more effectively.\n",
        "\n",
        "# Reduced Total Waiting Time: Without multithreading, the scraper would send requests sequentially, waiting for each one to complete before moving to the next. With multithreading, you can reduce the overall time significantly by handling multiple requests concurrently.\n",
        "\n",
        "# Efficient Use of Resources: Python’s Global Interpreter Lock (GIL) does not hinder I/O-bound tasks as much as CPU-bound tasks. When one thread is waiting for an I/O operation (such as a network response), the GIL is released, allowing other threads to execute. Thus, multithreading provides a real performance boost for I/O-bound applications in Python."
      ],
      "metadata": {
        "id": "ppbVv6E_3e99"
      },
      "execution_count": null,
      "outputs": []
    },
    {
      "cell_type": "code",
      "source": [
        "import threading\n",
        "import requests\n",
        "\n",
        "urls = [\"https://example.com/page1\", \"https://example.com/page2\", ...]\n",
        "\n",
        "def scrape(url):\n",
        "    response = requests.get(url)\n",
        "    print(f\"Scraped {url}: {response.status_code}\")\n",
        "\n",
        "threads = []\n",
        "for url in urls:\n",
        "    thread = threading.Thread(target=scrape, args=(url,))\n",
        "    threads.append(thread)\n",
        "    thread.start()\n",
        "\n",
        "for thread in threads:\n",
        "    thread.join()\n",
        "\n",
        "print(\"Scraping completed.\")"
      ],
      "metadata": {
        "colab": {
          "base_uri": "https://localhost:8080/"
        },
        "id": "hV7Qag2I4Ur7",
        "outputId": "117a932c-4a1a-4dd2-fed1-82c78a66bb18"
      },
      "execution_count": null,
      "outputs": [
        {
          "output_type": "stream",
          "name": "stderr",
          "text": [
            "Exception in thread Thread-26 (scrape):\n",
            "Traceback (most recent call last):\n",
            "  File \"/usr/lib/python3.10/threading.py\", line 1016, in _bootstrap_inner\n",
            "    self.run()\n",
            "  File \"/usr/lib/python3.10/threading.py\", line 953, in run\n",
            "    self._target(*self._args, **self._kwargs)\n",
            "  File \"<ipython-input-22-cf24dd062108>\", line 7, in scrape\n",
            "  File \"/usr/local/lib/python3.10/dist-packages/requests/api.py\", line 73, in get\n",
            "    return request(\"get\", url, params=params, **kwargs)\n",
            "  File \"/usr/local/lib/python3.10/dist-packages/requests/api.py\", line 59, in request\n",
            "    return session.request(method=method, url=url, **kwargs)\n",
            "  File \"/usr/local/lib/python3.10/dist-packages/requests/sessions.py\", line 575, in request\n",
            "    prep = self.prepare_request(req)\n",
            "  File \"/usr/local/lib/python3.10/dist-packages/requests/sessions.py\", line 484, in prepare_request\n",
            "    p.prepare(\n",
            "  File \"/usr/local/lib/python3.10/dist-packages/requests/models.py\", line 367, in prepare\n",
            "    self.prepare_url(url, params)\n",
            "  File \"/usr/local/lib/python3.10/dist-packages/requests/models.py\", line 438, in prepare_url\n",
            "    raise MissingSchema(\n",
            "requests.exceptions.MissingSchema: Invalid URL 'Ellipsis': No scheme supplied. Perhaps you meant https://Ellipsis?\n"
          ]
        },
        {
          "output_type": "stream",
          "name": "stdout",
          "text": [
            "Scraped https://example.com/page1: 404\n",
            "Scraped https://example.com/page2: 404\n",
            "Scraping completed.\n"
          ]
        }
      ]
    },
    {
      "cell_type": "code",
      "source": [
        "#Q.39 What is multiprocessing in python?"
      ],
      "metadata": {
        "id": "KjMcYVtH4Wbq"
      },
      "execution_count": null,
      "outputs": []
    },
    {
      "cell_type": "code",
      "source": [
        "# Multiprocessing in Python is a technique that enables the concurrent execution of tasks across multiple CPU cores by creating multiple separate processes. Each process runs independently with its own memory space, allowing Python to bypass the limitations of the Global Interpreter Lock (GIL) and achieve true parallelism.\n",
        "\n",
        "# Key Concepts in Multiprocessing\n",
        "# Process: A process is an independent execution unit with its own memory space. Unlike threads, processes do not share memory by default, which prevents interference between tasks but requires additional mechanisms for communication.\n",
        "\n",
        "# Parallelism: In contrast to multithreading (where threads share the same memory space and are restricted by the GIL), multiprocessing allows each process to run truly in parallel on different CPU cores, making it suitable for CPU-bound tasks that require significant computation.\n",
        "\n",
        "# Inter-Process Communication (IPC): Since processes have separate memory spaces, they cannot share data directly. To communicate, they use mechanisms like pipes, queues, and shared memory.\n",
        "\n",
        "# Process Pooling: The multiprocessing module offers a pool of worker processes through the Pool class, which allows tasks to be distributed efficiently across multiple processes.\n",
        "\n",
        "# Why Use Multiprocessing?\n",
        "# Multiprocessing is useful in Python for CPU-bound tasks that require high computation power, such as data processing, mathematical computations, or scientific simulations. It allows Python programs to leverage multiple CPU cores, which can significantly reduce execution time for computationally intensive tasks."
      ],
      "metadata": {
        "id": "W-n3JPuM44UB"
      },
      "execution_count": null,
      "outputs": []
    },
    {
      "cell_type": "code",
      "source": [
        "import multiprocessing\n",
        "import time\n",
        "\n",
        "def compute_square(number):\n",
        "    print(f\"Computing square of {number}\")\n",
        "    time.sleep(1)\n",
        "    return number * number\n",
        "\n",
        "if __name__ == \"__main__\":\n",
        "    numbers = [1, 2, 3, 4, 5]\n",
        "\n",
        "    with multiprocessing.Pool() as pool:\n",
        "        results = pool.map(compute_square, numbers)\n",
        "\n",
        "    print(\"Results:\", results)"
      ],
      "metadata": {
        "colab": {
          "base_uri": "https://localhost:8080/"
        },
        "id": "OA-ad2HJ5AFJ",
        "outputId": "7f69046e-a400-4439-c45e-640fe616b37b"
      },
      "execution_count": null,
      "outputs": [
        {
          "output_type": "stream",
          "name": "stdout",
          "text": [
            "Computing square of 1\n",
            "Computing square of 2\n",
            "Computing square of 3Computing square of 4\n",
            "\n",
            "Computing square of 5\n",
            "Results: [1, 4, 9, 16, 25]\n"
          ]
        }
      ]
    },
    {
      "cell_type": "code",
      "source": [
        "# Benefits of Multiprocessing\n",
        "# True Parallelism: Bypasses the GIL, allowing true parallel execution across multiple CPU cores.\n",
        "# Improved Performance for CPU-Bound Tasks: Tasks requiring significant computation can see significant speedups with multiprocessing.\n",
        "# Separate Memory Spaces: Each process operates independently, which enhances stability and reduces the risk of memory conflicts.\n",
        "# Limitations\n",
        "# Higher Memory Usage: Each process has its own memory space, increasing memory consumption.\n",
        "# Communication Overhead: Inter-process communication requires additional mechanisms (queues, pipes), which can add complexity.\n",
        "# Not Suitable for I/O-Bound Tasks: For tasks involving a lot of waiting (like network calls), multithreading is often more efficient due to lower overhead."
      ],
      "metadata": {
        "id": "NjEtkdEU5FOS"
      },
      "execution_count": null,
      "outputs": []
    },
    {
      "cell_type": "code",
      "source": [
        "#Q.40 How is multiprocessing different from multithreading in python?"
      ],
      "metadata": {
        "id": "vlgTVFW95KNZ"
      },
      "execution_count": null,
      "outputs": []
    },
    {
      "cell_type": "code",
      "source": [
        "\n",
        "# Multiprocessing and multithreading in Python are both techniques used to achieve concurrent execution of tasks, but they differ fundamentally in their approach, performance implications, and use cases. Here’s a comparison of their key differences:\n",
        "\n",
        "# 1. Concurrency vs. Parallelism\n",
        "# Multithreading: Threads within the same process share memory and resources, which makes it easier for them to communicate with each other. However, due to the Global Interpreter Lock (GIL) in Python, only one thread can execute Python bytecode at a time. This leads to concurrency, but not true parallelism in CPU-bound tasks.\n",
        "# Multiprocessing: Each process runs in its own memory space, independently of other processes, allowing multiple processes to run truly in parallel on separate CPU cores. Multiprocessing bypasses the GIL, enabling Python programs to achieve true parallelism for CPU-bound tasks.\n",
        "# 2. Memory Usage\n",
        "# Multithreading: Threads share the same memory space within a single process, which is efficient in terms of memory usage but can lead to issues with data integrity and race conditions if not properly synchronized.\n",
        "# Multiprocessing: Each process has its own memory space, which isolates data but results in higher memory usage. Data sharing between processes requires inter-process communication (IPC) mechanisms like pipes, queues, or shared memory, adding overhead.\n",
        "# 3. Global Interpreter Lock (GIL) Impact\n",
        "# Multithreading: The GIL prevents multiple threads from executing Python bytecode simultaneously, limiting the performance gain for CPU-bound tasks. Python threads are more suitable for I/O-bound tasks, where threads spend a lot of time waiting for external resources, as they can release the GIL while waiting.\n",
        "# Multiprocessing: Each process has its own interpreter instance and memory space, so the GIL does not apply. This allows true parallelism across multiple CPU cores, making multiprocessing ideal for CPU-bound tasks that require significant computation.\n",
        "# 4. Performance\n",
        "# Multithreading: Effective for I/O-bound tasks (e.g., network calls, file I/O) where tasks frequently wait for external resources. For these tasks, multithreading can improve responsiveness and resource utilization without needing multiple CPU cores.\n",
        "# Multiprocessing: Better suited for CPU-bound tasks (e.g., data processing, mathematical computations) that benefit from parallel execution across multiple cores, significantly improving performance on multi-core systems.\n",
        "# 5. Communication Complexity\n",
        "# Multithreading: Since threads share memory, they can access shared data directly, making communication simpler but also increasing the risk of race conditions. Synchronization mechanisms like locks, semaphores, and condition variables are needed to ensure thread safety.\n",
        "# Multiprocessing: Processes have separate memory spaces, so they cannot access each other’s data directly. Communication requires IPC mechanisms (like multiprocessing.Queue, Pipe, or Manager), which can add complexity and overhead.\n",
        "# 6. Fault Tolerance and Stability\n",
        "# Multithreading: A crash in one thread can potentially affect other threads in the same process, leading to program instability. Since threads share memory, they can interfere with each other’s data if not properly managed.\n",
        "# Multiprocessing: Processes are isolated from each other, so a crash in one process does not directly impact others. This isolation improves stability and makes multiprocessing more robust for tasks that might encounter unexpected issues.\n",
        "# Summary Table\n",
        "# Feature\tMultithreading\tMultiprocessing\n",
        "# Execution\tConcurrent execution (GIL-bound)\tTrue parallel execution\n",
        "# Best for\tI/O-bound tasks\tCPU-bound tasks\n",
        "# Memory Usage\tShared memory space (low overhead)\tSeparate memory space (higher overhead)\n",
        "# GIL Impact\tLimited by GIL\tNot affected by GIL\n",
        "# Communication\tSimple, but needs synchronization\tMore complex, requires IPC mechanisms\n",
        "# Fault Tolerance\tLess fault-tolerant\tMore fault-tolerant\n",
        "# Choosing Between Multithreading and Multiprocessing\n",
        "# Use multithreading for I/O-bound tasks (e.g., web scraping, network requests, file operations) where tasks spend a lot of time waiting.\n",
        "# Use multiprocessing for CPU-bound tasks (e.g., data processing, computations) that can leverage multiple CPU cores for better performance."
      ],
      "metadata": {
        "id": "3i0aJZ8N5kxf"
      },
      "execution_count": null,
      "outputs": []
    },
    {
      "cell_type": "code",
      "source": [
        "#Q.41 Create a process using the mutiprocessing module in python."
      ],
      "metadata": {
        "id": "VFQmad9O8SwB"
      },
      "execution_count": null,
      "outputs": []
    },
    {
      "cell_type": "code",
      "source": [
        "import multiprocessing\n",
        "import time\n",
        "\n",
        "def compute_square(number):\n",
        "    print(f\"Process started for number: {number}\")\n",
        "    time.sleep(2)\n",
        "    square = number * number\n",
        "    print(f\"The square of {number} is {square}\")\n",
        "\n",
        "if __name__ == \"__main__\":\n",
        "    numbers = [1, 2, 3, 4, 5]\n",
        "\n",
        "    processes = []\n",
        "\n",
        "    for number in numbers:\n",
        "        process = multiprocessing.Process(target=compute_square, args=(number,))\n",
        "        processes.append(process)\n",
        "        process.start()\n",
        "\n",
        "    for process in processes:\n",
        "        process.join()\n",
        "\n",
        "    print(\"All processes have finished execution.\")"
      ],
      "metadata": {
        "colab": {
          "base_uri": "https://localhost:8080/"
        },
        "id": "0QRdIe2n9wW-",
        "outputId": "13d59a3b-db28-47ee-da67-e8ebc703853e"
      },
      "execution_count": null,
      "outputs": [
        {
          "output_type": "stream",
          "name": "stdout",
          "text": [
            "Process started for number: 1Process started for number: 2\n",
            "\n",
            "Process started for number: 3Process started for number: 4\n",
            "\n",
            "Process started for number: 5\n",
            "The square of 1 is 1\n",
            "The square of 2 is 4\n",
            "The square of 3 is 9The square of 4 is 16\n",
            "\n",
            "The square of 5 is 25\n",
            "All processes have finished execution.\n"
          ]
        }
      ]
    },
    {
      "cell_type": "code",
      "source": [
        "#Q.42 Explain the concept of pool in the multiprocessing module."
      ],
      "metadata": {
        "id": "3BhvLHWd93gO"
      },
      "execution_count": null,
      "outputs": []
    },
    {
      "cell_type": "code",
      "source": [
        "# The concept of a pool in the Python multiprocessing module provides a convenient way to manage multiple worker processes. A pool allows you to create a fixed number of worker processes that can execute tasks concurrently, making it easier to handle a large number of tasks without the overhead of constantly creating and destroying processes.\n",
        "\n",
        "# Key Features of a Pool\n",
        "# Process Management: The pool creates and manages a specified number of worker processes. This means that you can efficiently distribute work among multiple processes without needing to manually create and manage each one.\n",
        "\n",
        "# Task Distribution: You can submit tasks to the pool, and it will distribute those tasks among the available worker processes. This is particularly useful for handling a large number of independent tasks.\n",
        "\n",
        "# Efficiency: By reusing a fixed number of processes, pools can reduce the overhead associated with process creation and destruction, leading to better performance, especially for I/O-bound and CPU-bound tasks.\n",
        "\n",
        "# Easy to Use: The pool provides simple methods for submitting tasks, such as map(), apply(), and apply_async(), which make it easy to parallelize code without dealing with the low-level details of process management.\n",
        "\n",
        "# Common Methods in the Pool Class\n",
        "# Pool(): Creates a pool of worker processes. You can specify the number of processes to create.\n",
        "\n",
        "# map(func, iterable): Applies the function func to each item in the iterable and distributes the work across the pool of processes. This is similar to the built-in map() function but runs in parallel.\n",
        "\n",
        "# apply(func, args): Executes func with the arguments args in one of the worker processes.\n",
        "\n",
        "# apply_async(func, args): Executes func asynchronously in one of the worker processes and returns a result object, which can be used to retrieve the result later.\n",
        "\n",
        "# close(): Prevents any more tasks from being submitted to the pool.\n",
        "\n",
        "# join(): Waits for all the worker processes to finish executing."
      ],
      "metadata": {
        "id": "ejVIJzPf-RK9"
      },
      "execution_count": null,
      "outputs": []
    },
    {
      "cell_type": "code",
      "source": [
        "import multiprocessing\n",
        "import time\n",
        "\n",
        "def compute_square(number):\n",
        "    print(f\"Computing square of {number}\")\n",
        "    time.sleep(1)\n",
        "    return number * number\n",
        "\n",
        "if __name__ == \"__main__\":\n",
        "    numbers = [1, 2, 3, 4, 5]\n",
        "    with multiprocessing.Pool(processes=3) as pool:\n",
        "        results = pool.map(compute_square, numbers)\n",
        "\n",
        "    print(\"Results:\", results)"
      ],
      "metadata": {
        "colab": {
          "base_uri": "https://localhost:8080/"
        },
        "id": "zOqa8oBN_VWX",
        "outputId": "96dab3e6-7adc-4ee6-fa97-25b3133eff00"
      },
      "execution_count": null,
      "outputs": [
        {
          "output_type": "stream",
          "name": "stdout",
          "text": [
            "Computing square of 1Computing square of 2Computing square of 3\n",
            "\n",
            "\n",
            "Computing square of 4\n",
            "\n",
            "Computing square of 5Results: [1, 4, 9, 16, 25]\n"
          ]
        }
      ]
    },
    {
      "cell_type": "code",
      "source": [
        "#Q.43 Explain inter-process communication in mutiprocessing."
      ],
      "metadata": {
        "id": "BZb_pf9p-beN"
      },
      "execution_count": null,
      "outputs": []
    },
    {
      "cell_type": "code",
      "source": [
        "# Inter-process communication (IPC) in the context of the Python multiprocessing module refers to the mechanisms that allow processes to communicate and synchronize their actions when they are executing concurrently. Since processes created by the multiprocessing module run in separate memory spaces, they cannot directly share data. IPC provides ways for these processes to exchange data and coordinate their operations.\n",
        "\n",
        "# Key IPC Mechanisms in the multiprocessing Module\n",
        "# Pipes:\n",
        "\n",
        "# Pipes provide a two-way communication channel between two processes. You can create a pipe using the Pipe() function, which returns a pair of connection objects. Each end of the pipe can be used to send and receive data."
      ],
      "metadata": {
        "id": "qSjru2hy_Mlq"
      },
      "execution_count": null,
      "outputs": []
    },
    {
      "cell_type": "code",
      "source": [
        "from multiprocessing import Process, Pipe\n",
        "\n",
        "def sender(conn):\n",
        "    conn.send(\"Hello from sender!\")\n",
        "    conn.close()\n",
        "\n",
        "def receiver(conn):\n",
        "    message = conn.recv()\n",
        "    print(f\"Received: {message}\")\n",
        "    conn.close()\n",
        "\n",
        "if __name__ == \"__main__\":\n",
        "    parent_conn, child_conn = Pipe()\n",
        "    p1 = Process(target=sender, args=(child_conn,))\n",
        "    p2 = Process(target=receiver, args=(parent_conn,))\n",
        "\n",
        "    p1.start()\n",
        "    p2.start()\n",
        "\n",
        "    p1.join()\n",
        "    p2.join()"
      ],
      "metadata": {
        "colab": {
          "base_uri": "https://localhost:8080/"
        },
        "id": "HqbSExDN_hNK",
        "outputId": "f1d2c672-bdab-476b-9bd5-5fea5c34ea83"
      },
      "execution_count": null,
      "outputs": [
        {
          "output_type": "stream",
          "name": "stdout",
          "text": [
            "Received: Hello from sender!\n"
          ]
        }
      ]
    },
    {
      "cell_type": "code",
      "source": [
        "# Queues:\n",
        "\n",
        "# A Queue is a thread- and process-safe FIFO (first-in-first-out) data structure that allows multiple processes to communicate. You can use it to put data into the queue from one process and retrieve it from another. This is a common method for passing messages or data between processes."
      ],
      "metadata": {
        "id": "eXsChZjJ_sQQ"
      },
      "execution_count": null,
      "outputs": []
    },
    {
      "cell_type": "code",
      "source": [
        "from multiprocessing import Process, Queue\n",
        "\n",
        "def worker(queue):\n",
        "    queue.put(\"Data from worker process\")\n",
        "\n",
        "if __name__ == \"__main__\":\n",
        "    queue = Queue()\n",
        "    p = Process(target=worker, args=(queue,))\n",
        "    p.start()\n",
        "    print(queue.get())\n",
        "    p.join()"
      ],
      "metadata": {
        "colab": {
          "base_uri": "https://localhost:8080/"
        },
        "id": "FCXZrPri_uuY",
        "outputId": "abf3c9f4-2e0e-4559-fc9c-6390b037f843"
      },
      "execution_count": null,
      "outputs": [
        {
          "output_type": "stream",
          "name": "stdout",
          "text": [
            "Data from worker process\n"
          ]
        }
      ]
    },
    {
      "cell_type": "code",
      "source": [
        "# Shared Memory:\n",
        "\n",
        "# The multiprocessing module provides the ability to share memory between processes. You can use Value or Array to create shared objects that multiple processes can access. This is particularly useful for sharing simple data types or arrays."
      ],
      "metadata": {
        "id": "etG3PG8S_wno"
      },
      "execution_count": null,
      "outputs": []
    },
    {
      "cell_type": "code",
      "source": [
        "from multiprocessing import Process, Value\n",
        "\n",
        "def increment(shared_value):\n",
        "    shared_value.value += 1\n",
        "\n",
        "if __name__ == \"__main__\":\n",
        "    shared_value = Value('i', 0)\n",
        "    processes = [Process(target=increment, args=(shared_value,)) for _ in range(5)]\n",
        "\n",
        "    for p in processes:\n",
        "        p.start()\n",
        "\n",
        "    for p in processes:\n",
        "        p.join()\n",
        "\n",
        "    print(f\"Final value: {shared_value.value}\")"
      ],
      "metadata": {
        "colab": {
          "base_uri": "https://localhost:8080/"
        },
        "id": "ZBAVH6xk_0kQ",
        "outputId": "23126dc6-7518-471b-b252-34ba7ca5a99d"
      },
      "execution_count": null,
      "outputs": [
        {
          "output_type": "stream",
          "name": "stdout",
          "text": [
            "Final value: 5\n"
          ]
        }
      ]
    },
    {
      "cell_type": "code",
      "source": [
        "# Manager:\n",
        "\n",
        "# The multiprocessing.Manager() provides a way to create shared objects (like lists and dictionaries) that can be accessed by multiple processes. This is useful for sharing complex data structures."
      ],
      "metadata": {
        "id": "Si-BMq3u_3aw"
      },
      "execution_count": null,
      "outputs": []
    },
    {
      "cell_type": "code",
      "source": [
        "from multiprocessing import Process, Manager\n",
        "\n",
        "def add_to_list(shared_list):\n",
        "    shared_list.append(\"Data from process\")\n",
        "\n",
        "if __name__ == \"__main__\":\n",
        "    with Manager() as manager:\n",
        "        shared_list = manager.list()\n",
        "        processes = [Process(target=add_to_list, args=(shared_list,)) for _ in range(3)]\n",
        "\n",
        "        for p in processes:\n",
        "            p.start()\n",
        "\n",
        "        for p in processes:\n",
        "            p.join()\n",
        "\n",
        "        print(shared_list)"
      ],
      "metadata": {
        "colab": {
          "base_uri": "https://localhost:8080/"
        },
        "id": "emh1JAA2_7SY",
        "outputId": "f5c87945-bfa1-4691-8476-0397326c6631"
      },
      "execution_count": null,
      "outputs": [
        {
          "output_type": "stream",
          "name": "stdout",
          "text": [
            "['Data from process', 'Data from process', 'Data from process']\n"
          ]
        }
      ]
    },
    {
      "cell_type": "code",
      "source": [
        "# Choosing the Right IPC Method\n",
        "# The choice of IPC mechanism depends on the specific requirements of the application:\n",
        "\n",
        "# Use Pipes for simple two-way communication between two processes.\n",
        "# Use Queues for more flexible communication patterns, especially when multiple producers and consumers are involved.\n",
        "# Use Shared Memory for sharing simple data types or arrays when performance is a concern, as it avoids the overhead of copying data.\n",
        "# Use Managers for sharing complex data structures across processes when you need to manage more intricate communication patterns."
      ],
      "metadata": {
        "id": "MaozgA9h_-fA"
      },
      "execution_count": null,
      "outputs": []
    },
    {
      "cell_type": "code",
      "source": [],
      "metadata": {
        "id": "Z9KH21hxADf4"
      },
      "execution_count": null,
      "outputs": []
    }
  ],
  "metadata": {
    "colab": {
      "provenance": []
    },
    "kernelspec": {
      "display_name": "Python 3",
      "name": "python3"
    },
    "language_info": {
      "name": "python"
    }
  },
  "nbformat": 4,
  "nbformat_minor": 0
}